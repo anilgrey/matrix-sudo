{
 "cells": [
  {
   "cell_type": "code",
   "execution_count": 2,
   "metadata": {},
   "outputs": [],
   "source": [
    "from xml.etree import ElementTree\n",
    "import csv"
   ]
  },
  {
   "cell_type": "code",
   "execution_count": 3,
   "metadata": {},
   "outputs": [],
   "source": [
    "tree = ElementTree.parse('D:\\XML\\statem.xml')"
   ]
  },
  {
   "cell_type": "code",
   "execution_count": 4,
   "metadata": {},
   "outputs": [],
   "source": [
    "perfios_statem = open('Perfios_Statem.csv', 'w',newline='',encoding='utf-8')\n",
    "csvwriter = csv.writer(perfios_statem)"
   ]
  },
  {
   "cell_type": "code",
   "execution_count": 5,
   "metadata": {},
   "outputs": [
    {
     "data": {
      "text/plain": [
       "338"
      ]
     },
     "execution_count": 5,
     "metadata": {},
     "output_type": "execute_result"
    }
   ],
   "source": [
    "col_names =['month','balanceOn1st','balanceOn5th','balanceOn10th','balanceOn15th','balanceOn20th','balanceOn25th','balanceOn30th','balAvgOf6Dates','expenseToIncomeRatio','InwardPaymentBounces','maxCredit','minCredit','minDebit','maxDebit','numberOfTransactions','outwardpaymentBounces','salaryCredits','totalCreditCardPayment','totalExpense','totalIncome','totalSurplus','minBalance','maxBalance']\n",
    "csvwriter.writerow(col_names)"
   ]
  },
  {
   "cell_type": "code",
   "execution_count": 13,
   "metadata": {},
   "outputs": [],
   "source": [
    "root = tree.getroot()"
   ]
  },
  {
   "cell_type": "code",
   "execution_count": 14,
   "metadata": {},
   "outputs": [],
   "source": [
    "for eventData in root.findall('eventData'):\n",
    "    event_data = []\n",
    "    count = 0\n",
    "    event = eventData.find('event')\n",
    "    \n",
    "    event_month = event.find('month')\n",
    "    if event_month != None:\n",
    "        event_month = event_month.text\n",
    "    event_data.append(event_month)\n",
    "    \n",
    "    event_balanceOn1st = event.find('balanceOn1st')\n",
    "    if event_balanceOn1st != None:\n",
    "        event_balanceOn1st = event_balanceOn1st.text\n",
    "    event_data.append(event_balanceOn1st)\n",
    "    \n",
    "    event_balanceOn5th = event.find('balanceOn5th')\n",
    "    if event_balanceOn5th != None:\n",
    "        event_balanceOn5th = event_balanceOn5th.text\n",
    "    event_data.append(event_balanceOn5th)\n",
    "    \n",
    "    event_balanceOn10th = event.find('balanceOn10th')\n",
    "    if event_balanceOn10th != None:\n",
    "        event_balanceOn10th = event_balanceOn10th.text\n",
    "    event_data.append(event_balanceOn10th)\n",
    "    \n",
    "    event_balanceOn15th = event.find('balanceOn15th')\n",
    "    if event_balanceOn15th != None:\n",
    "        event_balanceOn15th = event_balanceOn15th.text\n",
    "    event_data.append(event_balanceOn15th)\n",
    "    \n",
    "    event_balanceOn20th = event.find('balanceOn20th')\n",
    "    if event_balanceOn20th != None:\n",
    "        event_balanceOn20th = event_balanceOn20th.text\n",
    "    event_data.append(event_balanceOn5th)\n",
    "    \n",
    "    event_balanceOn25th = event.find('balanceOn25th')\n",
    "    if event_balanceOn25th != None:\n",
    "        event_balanceOn25th = event_balanceOn25th.text\n",
    "    event_data.append(event_balanceOn25th)\n",
    "    \n",
    "    event_balanceOn30th = event.find('balanceOn30th')\n",
    "    if event_balanceOn30th != None:\n",
    "        event_balanceOn30th = event_balanceOn30th.text\n",
    "    event_data.append(event_balanceOn30th)\n",
    "    \n",
    "    event_balAvgOf6Dates = event.find('balAvgOf6Dates')\n",
    "    if event_balAvgOf6Dates != None:\n",
    "        event_balAvgOf6Dates = event_balAvgOf6Dates.text\n",
    "    event_data.append(event_balAvgOf6Dates)\n",
    "    \n",
    "    event_expenseToIncomeRatio = event.find('expenseToIncomeRatio')\n",
    "    if event_expenseToIncomeRatio != None:\n",
    "        event_expenseToIncomeRatio = event_expenseToIncomeRatio.text\n",
    "    event_data.append(event_expenseToIncomeRatio)\n",
    "    \n",
    "    event_InwardPaymentBounces = event.find('InwardPaymentBounces')\n",
    "    if event_InwardPaymentBounces != None:\n",
    "        event_InwardPaymentBounces = event_InwardPaymentBounces.text\n",
    "    event_data.append(event_InwardPaymentBounces)\n",
    "    \n",
    "    event_maxCredit = event.find('maxCredit')\n",
    "    if event_maxCredit != None:\n",
    "        event_maxCredit = event_maxCredit.text\n",
    "    event_data.append(event_maxCredit)\n",
    "    \n",
    "    event_minCredit = event.find('minCredit')\n",
    "    if event_minCredit != None:\n",
    "        event_minCredit = event_minCredit.text\n",
    "    event_data.append(event_minCredit)\n",
    "    \n",
    "    event_minDebit = event.find('minDebit')\n",
    "    if event_minDebit != None:\n",
    "        event_minDebit = event_minDebit.text\n",
    "    event_data.append(event_minDebit)\n",
    "    \n",
    "    event_maxDebit = event.find('maxDebit')\n",
    "    if event_maxDebit != None:\n",
    "        event_maxDebit = event_maxDebit.text\n",
    "    event_data.append(event_maxDebit)\n",
    "    \n",
    "    event_numberOfTransactions = event.find('numberOfTransactions')\n",
    "    if event_numberOfTransactions != None:\n",
    "        event_numberOfTransactions = event_numberOfTransactions.text\n",
    "    event_data.append(event_numberOfTransactions)\n",
    "    \n",
    "    event_outwardpaymentBounces = event.find('outwardpaymentBounces')\n",
    "    if event_outwardpaymentBounces != None:\n",
    "        event_outwardpaymentBounces = event_outwardpaymentBounces.text\n",
    "    event_data.append(event_outwardpaymentBounces)\n",
    "    \n",
    "    event_salaryCredits = event.find('salaryCredits')\n",
    "    if event_salaryCredits != None:\n",
    "        event_salaryCredits = event_salaryCredits.text\n",
    "    event_data.append(event_salaryCredits)\n",
    "    \n",
    "    event_totalCreditCardPayment = event.find('totalCreditCardPayment')\n",
    "    if event_totalCreditCardPayment != None:\n",
    "        event_totalCreditCardPayment = event_totalCreditCardPayment.text\n",
    "    event_data.append(event_totalCreditCardPayment)\n",
    "    \n",
    "    event_totalExpense = event.find('totalExpense')\n",
    "    if event_totalExpense != None:\n",
    "        event_totalExpense = event_totalExpense.text\n",
    "    event_data.append(event_totalExpense)\n",
    "    \n",
    "    event_totalIncome = event.find('totalIncome')\n",
    "    if event_totalIncome != None:\n",
    "        event_totalIncome = event_totalIncome.text\n",
    "    event_data.append(event_totalIncome)\n",
    "    \n",
    "    event_totalSurplus = event.find('totalSurplus')\n",
    "    if event_totalSurplus != None:\n",
    "        event_totalSurplus = event_totalSurplus.text\n",
    "    event_data.append(event_totalSurplus)\n",
    "    \n",
    "    event_minBalance = event.find('minBalance')\n",
    "    if event_minBalance != None:\n",
    "        event_minBalance = event_minBalance.text\n",
    "    event_data.append(event_minBalance)\n",
    "    \n",
    "    event_mmaxBalance = event.find('maxBalance')\n",
    "    if event_maxBalance != None:\n",
    "        event_maxBalance = event_maxBalance.text\n",
    "    event_data.append(event_maxBalance)\n",
    "    count += 1\n",
    "    csvwriter.writerow(event_data)\n",
    "perfios_statem.close()"
   ]
  },
  {
   "cell_type": "code",
   "execution_count": 15,
   "metadata": {},
   "outputs": [],
   "source": [
    "import pandas as pd\n",
    "import numpy as np"
   ]
  },
  {
   "cell_type": "code",
   "execution_count": 16,
   "metadata": {},
   "outputs": [
    {
     "name": "stdout",
     "output_type": "stream",
     "text": [
      "(0, 24)\n"
     ]
    }
   ],
   "source": [
    "dataframe = pd.read_csv('Perfios_Statem.csv')\n",
    "print(dataframe.shape)"
   ]
  },
  {
   "cell_type": "code",
   "execution_count": 17,
   "metadata": {},
   "outputs": [
    {
     "data": {
      "text/html": [
       "<div>\n",
       "<style scoped>\n",
       "    .dataframe tbody tr th:only-of-type {\n",
       "        vertical-align: middle;\n",
       "    }\n",
       "\n",
       "    .dataframe tbody tr th {\n",
       "        vertical-align: top;\n",
       "    }\n",
       "\n",
       "    .dataframe thead th {\n",
       "        text-align: right;\n",
       "    }\n",
       "</style>\n",
       "<table border=\"1\" class=\"dataframe\">\n",
       "  <thead>\n",
       "    <tr style=\"text-align: right;\">\n",
       "      <th></th>\n",
       "      <th>month</th>\n",
       "      <th>balanceOn1st</th>\n",
       "      <th>balanceOn5th</th>\n",
       "      <th>balanceOn10th</th>\n",
       "      <th>balanceOn15th</th>\n",
       "      <th>balanceOn20th</th>\n",
       "      <th>balanceOn25th</th>\n",
       "      <th>balanceOn30th</th>\n",
       "      <th>balAvgOf6Dates</th>\n",
       "      <th>expenseToIncomeRatio</th>\n",
       "      <th>...</th>\n",
       "      <th>maxDebit</th>\n",
       "      <th>numberOfTransactions</th>\n",
       "      <th>outwardpaymentBounces</th>\n",
       "      <th>salaryCredits</th>\n",
       "      <th>totalCreditCardPayment</th>\n",
       "      <th>totalExpense</th>\n",
       "      <th>totalIncome</th>\n",
       "      <th>totalSurplus</th>\n",
       "      <th>minBalance</th>\n",
       "      <th>maxBalance</th>\n",
       "    </tr>\n",
       "  </thead>\n",
       "  <tbody>\n",
       "    <tr>\n",
       "      <th>count</th>\n",
       "      <td>0</td>\n",
       "      <td>0</td>\n",
       "      <td>0</td>\n",
       "      <td>0</td>\n",
       "      <td>0</td>\n",
       "      <td>0</td>\n",
       "      <td>0</td>\n",
       "      <td>0</td>\n",
       "      <td>0</td>\n",
       "      <td>0</td>\n",
       "      <td>...</td>\n",
       "      <td>0</td>\n",
       "      <td>0</td>\n",
       "      <td>0</td>\n",
       "      <td>0</td>\n",
       "      <td>0</td>\n",
       "      <td>0</td>\n",
       "      <td>0</td>\n",
       "      <td>0</td>\n",
       "      <td>0</td>\n",
       "      <td>0</td>\n",
       "    </tr>\n",
       "    <tr>\n",
       "      <th>unique</th>\n",
       "      <td>0</td>\n",
       "      <td>0</td>\n",
       "      <td>0</td>\n",
       "      <td>0</td>\n",
       "      <td>0</td>\n",
       "      <td>0</td>\n",
       "      <td>0</td>\n",
       "      <td>0</td>\n",
       "      <td>0</td>\n",
       "      <td>0</td>\n",
       "      <td>...</td>\n",
       "      <td>0</td>\n",
       "      <td>0</td>\n",
       "      <td>0</td>\n",
       "      <td>0</td>\n",
       "      <td>0</td>\n",
       "      <td>0</td>\n",
       "      <td>0</td>\n",
       "      <td>0</td>\n",
       "      <td>0</td>\n",
       "      <td>0</td>\n",
       "    </tr>\n",
       "  </tbody>\n",
       "</table>\n",
       "<p>2 rows × 24 columns</p>\n",
       "</div>"
      ],
      "text/plain": [
       "        month  balanceOn1st  balanceOn5th  balanceOn10th  balanceOn15th  \\\n",
       "count       0             0             0              0              0   \n",
       "unique      0             0             0              0              0   \n",
       "\n",
       "        balanceOn20th  balanceOn25th  balanceOn30th  balAvgOf6Dates  \\\n",
       "count               0              0              0               0   \n",
       "unique              0              0              0               0   \n",
       "\n",
       "        expenseToIncomeRatio  ...  maxDebit  numberOfTransactions  \\\n",
       "count                      0  ...         0                     0   \n",
       "unique                     0  ...         0                     0   \n",
       "\n",
       "        outwardpaymentBounces  salaryCredits  totalCreditCardPayment  \\\n",
       "count                       0              0                       0   \n",
       "unique                      0              0                       0   \n",
       "\n",
       "        totalExpense  totalIncome  totalSurplus  minBalance  maxBalance  \n",
       "count              0            0             0           0           0  \n",
       "unique             0            0             0           0           0  \n",
       "\n",
       "[2 rows x 24 columns]"
      ]
     },
     "execution_count": 17,
     "metadata": {},
     "output_type": "execute_result"
    }
   ],
   "source": [
    "dataframe.describe()"
   ]
  },
  {
   "cell_type": "code",
   "execution_count": null,
   "metadata": {},
   "outputs": [],
   "source": [
    "dataframe.info()"
   ]
  },
  {
   "cell_type": "code",
   "execution_count": 45,
   "metadata": {},
   "outputs": [],
   "source": []
  },
  {
   "cell_type": "code",
   "execution_count": null,
   "metadata": {},
   "outputs": [],
   "source": []
  }
 ],
 "metadata": {
  "kernelspec": {
   "display_name": "Python 3",
   "language": "python",
   "name": "python3"
  },
  "language_info": {
   "codemirror_mode": {
    "name": "ipython",
    "version": 3
   },
   "file_extension": ".py",
   "mimetype": "text/x-python",
   "name": "python",
   "nbconvert_exporter": "python",
   "pygments_lexer": "ipython3",
   "version": "3.7.3"
  }
 },
 "nbformat": 4,
 "nbformat_minor": 2
}
