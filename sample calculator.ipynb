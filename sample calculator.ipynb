{
 "cells": [
  {
   "cell_type": "code",
   "execution_count": 120,
   "metadata": {},
   "outputs": [],
   "source": [
    "from tkinter import *"
   ]
  },
  {
   "cell_type": "code",
   "execution_count": 121,
   "metadata": {},
   "outputs": [],
   "source": [
    "root = Tk()"
   ]
  },
  {
   "cell_type": "code",
   "execution_count": 122,
   "metadata": {},
   "outputs": [],
   "source": [
    "e = Entry(root,width = 50)\n",
    "e.pack()"
   ]
  },
  {
   "cell_type": "code",
   "execution_count": 123,
   "metadata": {},
   "outputs": [],
   "source": [
    "def myClick():\n",
    "    myLabel = Label(root, text = \"welcome \"  + e.get())\n",
    "    \n",
    "    myLabel.pack()\n",
    "myButton = Button(root, text =\"Open here\",  command =myClick, fg = \"black\", bg = \"yellow\")\n",
    "myButton.pack()"
   ]
  },
  {
   "cell_type": "code",
   "execution_count": 124,
   "metadata": {},
   "outputs": [],
   "source": [
    "root.mainloop()"
   ]
  },
  {
   "cell_type": "code",
   "execution_count": null,
   "metadata": {},
   "outputs": [],
   "source": []
  },
  {
   "cell_type": "code",
   "execution_count": 184,
   "metadata": {},
   "outputs": [],
   "source": [
    "from tkinter import *"
   ]
  },
  {
   "cell_type": "code",
   "execution_count": 185,
   "metadata": {},
   "outputs": [],
   "source": [
    "root = Tk()\n",
    "root.title(\"simple calculator\")\n",
    "e =Entry(root,width =40,borderwidth=5)\n",
    "e.grid(row = 0, column = 0, columnspan = 3,padx=10,pady=10)\n",
    "\n",
    "def button_click(number):\n",
    "    #e.delete(0, END)\n",
    "    current = e.get()\n",
    "    e.delete(0, END)\n",
    "    e.insert(0, str(current) + str(number))\n",
    "    \n",
    "def button_clear():\n",
    "    e.delete(0, END)\n",
    "    \n",
    "def button_add():\n",
    "    first_number = e.get()\n",
    "    global f_num\n",
    "    global math\n",
    "    math = \"addition\"\n",
    "    f_num = int(first_number)\n",
    "    e.delete(0, END)\n",
    "    \n",
    "def button_equal():\n",
    "    second_number = e.get()\n",
    "    e.delete(0, END)\n",
    "    \n",
    "    if math == \"addition\":\n",
    "        e.insert(0, f_num + int(second_number))\n",
    "        \n",
    "    if math == \"multiply\":\n",
    "        e.insert(0, f_num * int(second_number))\n",
    "        \n",
    "    if math == \"subtract\":\n",
    "        e.insert(0, f_num - int(second_number))\n",
    "        \n",
    "    if math == \"division\":\n",
    "        e.insert(0, f_num / int(second_number))\n",
    "    \n",
    "    \n",
    "def button_subtract():\n",
    "    first_number = e.get()\n",
    "    global f_num\n",
    "    global math\n",
    "    math = \"subtract\"\n",
    "    f_num = int(first_number)\n",
    "    e.delete(0, END)\n",
    "    \n",
    "def button_multiply():\n",
    "    first_number = e.get()\n",
    "    global f_num\n",
    "    global math\n",
    "    math = \"multiply\"\n",
    "    f_num = int(first_number)\n",
    "    e.delete(0, END)\n",
    "    \n",
    "def button_divide():\n",
    "    first_number = e.get()\n",
    "    global f_num\n",
    "    global math\n",
    "    math = \"division\"\n",
    "    f_num = int(first_number)\n",
    "    e.delete(0, END)\n",
    "    "
   ]
  },
  {
   "cell_type": "code",
   "execution_count": 186,
   "metadata": {},
   "outputs": [],
   "source": [
    "button_1 = Button(root, text =\"1\",padx = 40,pady = 20,command =lambda: button_click(1))\n",
    "button_2 = Button(root, text =\"2\",padx = 40,pady = 20,command =lambda: button_click(2))\n",
    "button_3 = Button(root, text =\"3\",padx = 40,pady = 20,command =lambda: button_click(3))\n",
    "button_4 = Button(root, text =\"4\",padx = 40,pady = 20,command =lambda: button_click(4))\n",
    "button_5 = Button(root, text =\"5\",padx = 40,pady = 20,command =lambda: button_click(5))\n",
    "button_6 = Button(root, text =\"6\",padx = 40,pady = 20,command =lambda: button_click(6))\n",
    "button_7 = Button(root, text =\"7\",padx = 40,pady = 20,command =lambda: button_click(7))\n",
    "button_8 = Button(root, text =\"8\",padx = 40,pady = 20,command =lambda: button_click(8))\n",
    "button_9 = Button(root, text =\"9\",padx = 40,pady = 20,command =lambda: button_click(9))\n",
    "button_0 = Button(root, text =\"0\",padx = 40,pady = 20,command =lambda: button_click(0))\n",
    "\n",
    "button_add = Button(root, text =\"+\",padx = 40,pady = 20,command =button_add)\n",
    "button_equal = Button(root, text =\"=\",padx = 90,pady = 20,command =button_equal)\n",
    "button_clear = Button(root, text =\"Clear\",padx = 90,pady = 20,command =button_clear)\n",
    "\n",
    "button_subtract = Button(root, text =\"-\",padx = 40,pady = 20,command =button_subtract)\n",
    "button_multiply = Button(root, text =\"*\",padx = 40,pady = 20,command =button_multiply)\n",
    "button_divide = Button(root, text =\"/\",padx = 40,pady = 20,command =button_divide)\n",
    "\n",
    "button_1.grid(row=3, column=0)\n",
    "button_2.grid(row=3, column=1)\n",
    "button_3.grid(row=3, column=2)\n",
    "\n",
    "button_4.grid(row=2, column=0)\n",
    "button_5.grid(row=2, column=1)\n",
    "button_6.grid(row=2, column=2)\n",
    "\n",
    "button_7.grid(row=1, column=0)\n",
    "button_8.grid(row=1, column=1)\n",
    "button_9.grid(row=1, column=2)\n",
    "\n",
    "button_0.grid(row=4, column=0,)\n",
    "button_add.grid(row=5, column=0)\n",
    "button_equal.grid(row=5, column=1,columnspan = 2)\n",
    "button_clear.grid(row=4, column=1,columnspan = 2)\n",
    "button_subtract.grid(row=6, column=0)\n",
    "button_multiply.grid(row=6, column=1)\n",
    "button_divide.grid(row=6, column=2)\n",
    "\n",
    "root.mainloop()"
   ]
  },
  {
   "cell_type": "code",
   "execution_count": null,
   "metadata": {},
   "outputs": [],
   "source": []
  },
  {
   "cell_type": "code",
   "execution_count": null,
   "metadata": {},
   "outputs": [],
   "source": []
  }
 ],
 "metadata": {
  "kernelspec": {
   "display_name": "Python 3",
   "language": "python",
   "name": "python3"
  },
  "language_info": {
   "codemirror_mode": {
    "name": "ipython",
    "version": 3
   },
   "file_extension": ".py",
   "mimetype": "text/x-python",
   "name": "python",
   "nbconvert_exporter": "python",
   "pygments_lexer": "ipython3",
   "version": "3.7.3"
  }
 },
 "nbformat": 4,
 "nbformat_minor": 2
}
